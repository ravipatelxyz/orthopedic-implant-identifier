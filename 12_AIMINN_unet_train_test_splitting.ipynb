{
 "cells": [
  {
   "cell_type": "markdown",
   "metadata": {
    "ExecuteTime": {
     "end_time": "2020-03-30T18:49:49.628950Z",
     "start_time": "2020-03-30T18:49:49.620952Z"
    }
   },
   "source": [
    "### Imports"
   ]
  },
  {
   "cell_type": "code",
   "execution_count": null,
   "metadata": {
    "ExecuteTime": {
     "end_time": "2020-03-18T12:25:53.260071Z",
     "start_time": "2020-03-18T12:25:53.244067Z"
    }
   },
   "outputs": [],
   "source": [
    "import pandas as pd\n",
    "import numpy as np\n",
    "import random\n",
    "import os\n",
    "from sklearn.model_selection import train_test_split"
   ]
  },
  {
   "cell_type": "markdown",
   "metadata": {},
   "source": [
    "### Set parameters, directories, and import Excel sheet listing image-mask pairs to include for Unet training/testing"
   ]
  },
  {
   "cell_type": "code",
   "execution_count": null,
   "metadata": {
    "ExecuteTime": {
     "end_time": "2020-03-18T12:25:53.687957Z",
     "start_time": "2020-03-18T12:25:53.675956Z"
    }
   },
   "outputs": [],
   "source": [
    "# Parameters\n",
    "TEST_SET_PROPORTION = 0.1 # specify porportion of images to be randomised to the test set (0.1 in our publication)\n",
    "\n",
    "# Directory containing squared radiographs\n",
    "INPUT_DIR = \"\"\n",
    "\n",
    "# Import as a pandas dataframe the Excel sheet in which you have populated column 1 (\"filenames\") with...\n",
    "# ...squared radiograph png names and column 2 (\"labels\") with their class labels,...\n",
    "# ...for the images with high quality masks to be included in unet training/test datasets...\n",
    "# ...(see previous ipynb notebook for more details: 11-1_AIMINN_autogenerate_segmentation_training_masks)\n",
    "FULL_UNET_DATASET = pd.read_excel(\"segmentation_dataset.xlsx\", dtype = \"str\")\n",
    "\n",
    "os.chdir(INPUT_DIR)"
   ]
  },
  {
   "cell_type": "markdown",
   "metadata": {},
   "source": [
    "### Print counts of each implant model class in the dataset"
   ]
  },
  {
   "cell_type": "code",
   "execution_count": null,
   "metadata": {
    "ExecuteTime": {
     "end_time": "2020-03-18T12:25:55.661108Z",
     "start_time": "2020-03-18T12:25:54.460812Z"
    }
   },
   "outputs": [],
   "source": [
    "count_of_labels = FULL_UNET_DATASET.groupby('labels').count()\n",
    "print(count_of_labels)"
   ]
  },
  {
   "cell_type": "markdown",
   "metadata": {},
   "source": [
    "### Generate training and testing datasets and labels, and copy and paste into an Excel file"
   ]
  },
  {
   "cell_type": "code",
   "execution_count": null,
   "metadata": {
    "ExecuteTime": {
     "end_time": "2020-03-18T12:26:11.956962Z",
     "start_time": "2020-03-18T12:26:11.912951Z"
    }
   },
   "outputs": [],
   "source": [
    "# Note: this will randomly allocate images to train and test datasets, stratified by class\n",
    "\n",
    "files_train, files_test, labels_train, labels_test = train_test_split(FULL_UNET_DATASET['filenames'],\n",
    "                                                    FULL_DATASET['labels'],\n",
    "                                                    test_size=TEST_SET_PROPORTION,\n",
    "                                                    random_state=1,\n",
    "                                                    stratify=FULL_DATASET['labels'])"
   ]
  },
  {
   "cell_type": "code",
   "execution_count": null,
   "metadata": {
    "ExecuteTime": {
     "end_time": "2020-03-18T12:26:15.432100Z",
     "start_time": "2020-03-18T12:26:15.356121Z"
    }
   },
   "outputs": [],
   "source": [
    "# Copy and paste the training file names and labels to an Excel file as follows\n",
    "# Excel filename = \"Unet_train_test.xlsx\" | sheet name = \"training\" | column 1 = \"filenames\" | column 2 = \"labels\"\n",
    "\n",
    "for file in files_train:\n",
    "    print(file)\n",
    "for label in labels_train:\n",
    "    print(label)"
   ]
  },
  {
   "cell_type": "code",
   "execution_count": null,
   "metadata": {
    "ExecuteTime": {
     "end_time": "2020-03-18T12:26:31.404110Z",
     "start_time": "2020-03-18T12:26:31.384114Z"
    }
   },
   "outputs": [],
   "source": [
    "# Copy and paste these to same Excel file in a separate sheet as follows\n",
    "# Excel filename = \"Unet_train_test.xlsx\" | sheet name = \"test\" | column 1 = \"filenames\" | column 2 = \"labels\"\n",
    "\n",
    "for file in files_test:\n",
    "    print(file)    \n",
    "for label in labels_test:\n",
    "    print(label)"
   ]
  }
 ],
 "metadata": {
  "kernelspec": {
   "display_name": "Python 3",
   "language": "python",
   "name": "python3"
  },
  "language_info": {
   "codemirror_mode": {
    "name": "ipython",
    "version": 3
   },
   "file_extension": ".py",
   "mimetype": "text/x-python",
   "name": "python",
   "nbconvert_exporter": "python",
   "pygments_lexer": "ipython3",
   "version": "3.7.6"
  },
  "toc": {
   "base_numbering": 1,
   "nav_menu": {},
   "number_sections": true,
   "sideBar": true,
   "skip_h1_title": false,
   "title_cell": "Table of Contents",
   "title_sidebar": "Contents",
   "toc_cell": false,
   "toc_position": {},
   "toc_section_display": true,
   "toc_window_display": false
  },
  "varInspector": {
   "cols": {
    "lenName": 16,
    "lenType": 16,
    "lenVar": 40
   },
   "kernels_config": {
    "python": {
     "delete_cmd_postfix": "",
     "delete_cmd_prefix": "del ",
     "library": "var_list.py",
     "varRefreshCmd": "print(var_dic_list())"
    },
    "r": {
     "delete_cmd_postfix": ") ",
     "delete_cmd_prefix": "rm(",
     "library": "var_list.r",
     "varRefreshCmd": "cat(var_dic_list()) "
    }
   },
   "types_to_exclude": [
    "module",
    "function",
    "builtin_function_or_method",
    "instance",
    "_Feature"
   ],
   "window_display": false
  }
 },
 "nbformat": 4,
 "nbformat_minor": 4
}
