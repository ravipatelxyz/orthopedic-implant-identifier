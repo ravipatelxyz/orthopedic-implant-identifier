{
 "cells": [
  {
   "cell_type": "markdown",
   "metadata": {},
   "source": [
    "## Play-zone: Autogenerating image masks for segmentation training\n",
    "This notebook autogenerates a mask for one image at a time - it can therefore be used for testing parameters, approaches to thresholding, visualising pixel intensity kernel density plots, and generally trying things out.  This is helpful for understanding the processes used to autogenerate masks in the notebook:\n",
    "\"11-1_AIMINN_autogenerate_segmentation_training_masks.ipynb\""
   ]
  },
  {
   "cell_type": "markdown",
   "metadata": {},
   "source": [
    "## Imports"
   ]
  },
  {
   "cell_type": "code",
   "execution_count": null,
   "metadata": {
    "ExecuteTime": {
     "end_time": "2020-03-23T13:54:09.074909Z",
     "start_time": "2020-03-23T13:54:09.056919Z"
    }
   },
   "outputs": [],
   "source": [
    "import numpy as np\n",
    "import os\n",
    "from skimage import morphology, measure, draw, io, exposure\n",
    "import matplotlib.pyplot as plt\n",
    "from matplotlib.spines import Spine\n",
    "import cv2\n",
    "import seaborn as sns\n",
    "import scipy"
   ]
  },
  {
   "cell_type": "code",
   "execution_count": null,
   "metadata": {
    "ExecuteTime": {
     "end_time": "2020-03-23T13:23:42.445810Z",
     "start_time": "2020-03-23T13:23:42.433822Z"
    }
   },
   "outputs": [],
   "source": [
    "\n",
    "INPUT_DIR = \"\" # folder containing all radiographs\n",
    "FILENAME = \"\" # radiograph png file you wish to work with\n",
    "\n",
    "os.chdir(INPUT_DIR)"
   ]
  },
  {
   "cell_type": "code",
   "execution_count": null,
   "metadata": {
    "ExecuteTime": {
     "end_time": "2020-03-23T16:16:30.677115Z",
     "start_time": "2020-03-23T16:16:29.441966Z"
    }
   },
   "outputs": [],
   "source": [
    "# load image\n",
    "image = io.imread(FILENAME)\n",
    "\n",
    "# display image and max pixel intensity\n",
    "plt.imshow(image, cmap='gray')\n",
    "plt.axis('off')\n",
    "plt.show()\n",
    "print(f\"Maximum pixel intensity in image: {np.amax(image)}\")"
   ]
  },
  {
   "cell_type": "markdown",
   "metadata": {},
   "source": [
    "## Choose a threshold value\n",
    "#### ?automate this by taking max value of second derivative (this should correspond to local minimum)"
   ]
  },
  {
   "cell_type": "code",
   "execution_count": null,
   "metadata": {
    "ExecuteTime": {
     "end_time": "2020-03-23T16:16:37.622929Z",
     "start_time": "2020-03-23T16:16:32.560804Z"
    }
   },
   "outputs": [],
   "source": [
    "# density plot of pixel values to choose threshold value\n",
    "p = sns.distplot(image.ravel(), hist = False, kde = True,\n",
    "             kde_kws = {'linewidth': 3},)\n",
    "\n",
    "plt.tick_params(colors='k', width=2)\n",
    "plt.xlim(0, 255)\n",
    "plt.ylim(bottom=0, top=0.02)\n",
    "plt.rc('xtick', labelsize=14)\n",
    "plt.rc('ytick', labelsize=14)\n",
    "plt.yticks(np.arange(0, 0.025, step=0.005))\n",
    "plt.title('Density Plot of pixel intensities')\n",
    "plt.xlabel('Pixel intensity value')\n",
    "plt.ylabel('Density')\n",
    "plt.show()"
   ]
  },
  {
   "cell_type": "code",
   "execution_count": null,
   "metadata": {
    "ExecuteTime": {
     "end_time": "2020-03-23T16:16:40.827813Z",
     "start_time": "2020-03-23T16:16:40.812822Z"
    }
   },
   "outputs": [],
   "source": [
    "# Pull density values from seaborn distplot\n",
    "pixel_values = p._axes.lines[0].get_xdata()\n",
    "density = p._axes.lines[0].get_ydata()"
   ]
  },
  {
   "cell_type": "code",
   "execution_count": null,
   "metadata": {
    "ExecuteTime": {
     "end_time": "2020-03-23T16:16:42.295887Z",
     "start_time": "2020-03-23T16:16:42.255907Z"
    }
   },
   "outputs": [],
   "source": [
    "# identify salient troughs in density plot\n",
    "troughs, _ = scipy.signal.find_peaks(-density, distance=20, height=(-0.1,-0.001))\n",
    "\n",
    "MINIMUM_INTENSITY = 150\n",
    "TROUGH_INDEX = -2\n",
    "\n",
    "trough_intensities = pixel_values[troughs]\n",
    "troughs_above_min = [trough_intensity for trough_intensity in trough_intensities \n",
    "                     if trough_intensity > MINIMUM_INTENSITY]\n",
    "print(f\"All troughs identified : {troughs}\")\n",
    "print (f\"Number of troughs above minimum of {MINIMUM_INTENSITY}: {len(troughs_above_min)}\")\n",
    "\n",
    "# identify the single trough to be used for thresholding \n",
    "\n",
    "if len(troughs_above_min) > 1:\n",
    "    THRESHOLD=troughs_above_min[TROUGH_INDEX]\n",
    "    print(f\"Autothreshold intensity chosen: {THRESHOLD}\")\n",
    "elif len(troughs_above_min) == 1:\n",
    "    THRESHOLD=troughs_above_min\n",
    "    print(f\"Autothreshold intensity chosen: {THRESHOLD}\")\n",
    "elif len(troughs_above_min) == 0:\n",
    "    THRESHOLD= trough_intensities[-1]\n",
    "    print(f\"CAUTION: NO TROUGHS IN RANGE ABOVE {MINIMUM_INTENSITY}\")\n",
    "    print(f\"Autothreshold intensity chosen: {THRESHOLD}\")   "
   ]
  },
  {
   "cell_type": "markdown",
   "metadata": {},
   "source": [
    "## Thresholding, selection of largest area in image, dimension of bounding box"
   ]
  },
  {
   "cell_type": "code",
   "execution_count": null,
   "metadata": {
    "ExecuteTime": {
     "end_time": "2020-03-23T13:26:30.874336Z",
     "start_time": "2020-03-23T13:26:30.836361Z"
    }
   },
   "outputs": [],
   "source": [
    "# Return array of trues and falses\n",
    "image_thresh = image >= THRESHOLD"
   ]
  },
  {
   "cell_type": "code",
   "execution_count": null,
   "metadata": {
    "ExecuteTime": {
     "end_time": "2020-03-23T13:26:33.580240Z",
     "start_time": "2020-03-23T13:26:31.725708Z"
    }
   },
   "outputs": [],
   "source": [
    "# skimage.measure.label labels all continuous non-zero areas with a numerical label.\n",
    "# skimage.measure.regionprops generates a dictionary of properties about each labelled region\n",
    "image_labelled = np.array(measure.label(image_thresh))\n",
    "props = measure.regionprops(image_labelled)\n",
    "\n",
    "# Create a list of the areas of each labelled region\n",
    "areas = []\n",
    "for index, prop in enumerate(props):\n",
    "    area = (props[index].area)\n",
    "    areas.append(area)\n",
    "    \n",
    "max_area = max(areas)\n",
    "\n",
    "# Remove all except largest object for hips (for knees this needs changing to all except largest two objects)\n",
    "image_minus_smallobjects = morphology.remove_small_objects(image_labelled, min_size=max_area)\n",
    "\n",
    "# Fill in unnecessary holes generated from the process so far\n",
    "image_implant_only = (morphology.remove_small_holes(image_minus_smallobjects, area_threshold=500)).astype(int)\n",
    "\n",
    "# Display thresholded image\n",
    "io.imshow(image_implant_only)\n",
    "\n",
    "# Sanity to check to ensure only 1 area remains\n",
    "props_new = measure.regionprops(image_implant_only)\n",
    "print(f\"Number of remaining areas: {len(props_new)}\")"
   ]
  },
  {
   "cell_type": "code",
   "execution_count": null,
   "metadata": {},
   "outputs": [],
   "source": [
    "# Calculate dimensions of bounding box around implant\n",
    "bound_box_corners = props_new[0].bbox\n",
    "min_row, min_col, max_row, max_col = bound_box_corners\n",
    "print(f\"Bounding box: Rows {min_row} to {max_row} | Columns {min_col} to {max_col}\")"
   ]
  },
  {
   "cell_type": "markdown",
   "metadata": {},
   "source": [
    "##  Bounding box used to crop radiograph"
   ]
  },
  {
   "cell_type": "code",
   "execution_count": null,
   "metadata": {},
   "outputs": [],
   "source": [
    "# crop image based on bounding dimensions above\n",
    "image_cropped = image[min_row:max_row, min_col:max_col]\n",
    "# image_cropped = exposure.equalize_adapthist(image_cropped, clip_limit=0.03)\n",
    "\n",
    "print(\"Cropped image:\")\n",
    "plt.imshow(image_cropped, cmap='gray')\n",
    "plt.axis('off')\n",
    "plt.show()"
   ]
  },
  {
   "cell_type": "markdown",
   "metadata": {},
   "source": [
    "## Mask used to crop implant, then equalisation applied"
   ]
  },
  {
   "cell_type": "code",
   "execution_count": null,
   "metadata": {},
   "outputs": [],
   "source": [
    "# remove background from image with threshold\n",
    "image_thresholded = np.multiply(image_implant_only, image)\n",
    "\n",
    "# crop image using bounding box dimensions determined a few cells above\n",
    "image_thresholded_cropped = image_thresholded[min_row:max_row, min_col:max_col]\n",
    "\n",
    "print(\"Without equalisation:\")\n",
    "plt.imshow(image_thresholded_cropped, cmap='gray')\n",
    "plt.axis('off')\n",
    "plt.show()\n",
    "\n",
    "# apply equalisation to more evenly distribute the pixel intensity histogram\n",
    "image_equalised = exposure.equalize_adapthist(image_thresholded_cropped, clip_limit=0.03)\n",
    "\n",
    "print(\"With equalisation:\")\n",
    "plt.imshow(image_equalised, cmap='gray')\n",
    "plt.axis('off')\n",
    "plt.show()"
   ]
  }
 ],
 "metadata": {
  "kernelspec": {
   "display_name": "Python 3",
   "language": "python",
   "name": "python3"
  },
  "language_info": {
   "codemirror_mode": {
    "name": "ipython",
    "version": 3
   },
   "file_extension": ".py",
   "mimetype": "text/x-python",
   "name": "python",
   "nbconvert_exporter": "python",
   "pygments_lexer": "ipython3",
   "version": "3.7.6"
  },
  "toc": {
   "base_numbering": 1,
   "nav_menu": {},
   "number_sections": true,
   "sideBar": true,
   "skip_h1_title": false,
   "title_cell": "Table of Contents",
   "title_sidebar": "Contents",
   "toc_cell": false,
   "toc_position": {},
   "toc_section_display": true,
   "toc_window_display": false
  },
  "varInspector": {
   "cols": {
    "lenName": 16,
    "lenType": 16,
    "lenVar": 40
   },
   "kernels_config": {
    "python": {
     "delete_cmd_postfix": "",
     "delete_cmd_prefix": "del ",
     "library": "var_list.py",
     "varRefreshCmd": "print(var_dic_list())"
    },
    "r": {
     "delete_cmd_postfix": ") ",
     "delete_cmd_prefix": "rm(",
     "library": "var_list.r",
     "varRefreshCmd": "cat(var_dic_list()) "
    }
   },
   "types_to_exclude": [
    "module",
    "function",
    "builtin_function_or_method",
    "instance",
    "_Feature"
   ],
   "window_display": false
  }
 },
 "nbformat": 4,
 "nbformat_minor": 2
}
