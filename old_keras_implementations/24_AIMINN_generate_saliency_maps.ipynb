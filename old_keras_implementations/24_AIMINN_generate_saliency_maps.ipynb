{
 "cells": [
  {
   "cell_type": "markdown",
   "metadata": {},
   "source": [
    "## Imports"
   ]
  },
  {
   "cell_type": "code",
   "execution_count": null,
   "metadata": {
    "ExecuteTime": {
     "end_time": "2020-03-27T22:21:38.126340Z",
     "start_time": "2020-03-27T22:21:13.272872Z"
    }
   },
   "outputs": [],
   "source": [
    "import os\n",
    "import numpy as np\n",
    "import pandas as pd\n",
    "import matplotlib.pyplot as plt\n",
    "import scipy.ndimage as ndimage\n",
    "from tqdm.notebook import tqdm\n",
    "\n",
    "from keras.models import load_model\n",
    "from keras import activations\n",
    "from keras.preprocessing.image import ImageDataGenerator\n",
    "\n",
    "from vis.visualization import visualize_saliency\n",
    "from vis.utils import utils\n",
    "\n",
    "from skimage.transform import resize\n",
    "from skimage.io import imread"
   ]
  },
  {
   "cell_type": "markdown",
   "metadata": {},
   "source": [
    "## Set parameters and directories\n",
    "Note: This code is currently set up for generating saliency maps for all images in the test dataset"
   ]
  },
  {
   "cell_type": "code",
   "execution_count": null,
   "metadata": {
    "ExecuteTime": {
     "end_time": "2020-03-27T22:54:32.269557Z",
     "start_time": "2020-03-27T22:54:31.295896Z"
    }
   },
   "outputs": [],
   "source": [
    "# Image type \"UNIL\" or \"CROP\"\n",
    "IMAGE_TYPE = \"UNIL\"\n",
    "\n",
    "# File path for Excel file containing UNIL train/val/test splitting:\n",
    "TRAIN_VALID_TEST_EXCEL_FILEPATH = f\"............/classification_training_validation_test_{IMAGE_TYPE}.xlsx\"\n",
    "\n",
    "# File path for neural net h5 file (ensure it is the model for the correct image type UNIL or CROP as appropriate)\n",
    "DIR_NN = \"\" \n",
    "\n",
    "# File path to folder containing input images (UNIL or CROP as appropriate)\n",
    "INPUT_DIR = \"\" \n",
    "\n",
    "# File path to folder for saving saliency maps\n",
    "OUTPUT_DIR = \"\""
   ]
  },
  {
   "cell_type": "markdown",
   "metadata": {},
   "source": [
    "## Load neural net and modify final dense layer to linear activation"
   ]
  },
  {
   "cell_type": "code",
   "execution_count": null,
   "metadata": {
    "ExecuteTime": {
     "end_time": "2020-03-27T22:24:30.058728Z",
     "start_time": "2020-03-27T22:22:29.076989Z"
    }
   },
   "outputs": [],
   "source": [
    "# Load neural net\n",
    "saved_model = load_model(DIR_NN)"
   ]
  },
  {
   "cell_type": "code",
   "execution_count": null,
   "metadata": {
    "ExecuteTime": {
     "end_time": "2020-03-27T22:26:24.037593Z",
     "start_time": "2020-03-27T22:24:34.397293Z"
    }
   },
   "outputs": [],
   "source": [
    "# Modify final layer (dense_1) to linear activation\n",
    "layer_idx = utils.find_layer_idx(saved_model, 'dense_1')\n",
    "saved_model.layers[layer_idx].activation = activations.linear\n",
    "model = utils.apply_modifications(saved_model)"
   ]
  },
  {
   "cell_type": "markdown",
   "metadata": {},
   "source": [
    "## Prepare image data generator and list of image names"
   ]
  },
  {
   "cell_type": "code",
   "execution_count": null,
   "metadata": {
    "ExecuteTime": {
     "end_time": "2020-03-27T22:54:42.681591Z",
     "start_time": "2020-03-27T22:54:42.458604Z"
    }
   },
   "outputs": [],
   "source": [
    "# Generate dataframe for the test images\n",
    "images_df = pd.read_excel(TRAIN_VALID_TEST_EXCEL_FILEPATH, sheet_name=f\"TEST_DF\", dtype=str)\n",
    "\n",
    "# Setup image data generator\n",
    "images_datagen = ImageDataGenerator(rescale=1. / 255)\n",
    "images_generator = images_datagen.flow_from_dataframe(images_df, directory=INPUT_DIR, class_mode='categorical', x_col='filenames', y_col='labels',\n",
    "                                                    target_size=(299, 299), batch_size=1, shuffle=False)"
   ]
  },
  {
   "cell_type": "code",
   "execution_count": null,
   "metadata": {
    "ExecuteTime": {
     "end_time": "2020-03-27T22:55:02.303178Z",
     "start_time": "2020-03-27T22:54:46.281432Z"
    }
   },
   "outputs": [],
   "source": [
    "# Generate list of numpy arrays of images\n",
    "original_images = []\n",
    "originals = images_df['filenames'].to_numpy()\n",
    "for original in originals:\n",
    "    og_img = imread(f\"{INPUT_DIR}/{original}\")\n",
    "    original_images.append(og_img)"
   ]
  },
  {
   "cell_type": "markdown",
   "metadata": {},
   "source": [
    "## Produce saliency maps"
   ]
  },
  {
   "cell_type": "code",
   "execution_count": null,
   "metadata": {
    "ExecuteTime": {
     "end_time": "2020-03-28T13:33:23.283986Z",
     "start_time": "2020-03-27T22:55:02.760472Z"
    }
   },
   "outputs": [],
   "source": [
    "for i, (image, true) in enumerate(tqdm(images_generator)):\n",
    "    og_img = np.stack((original_images[i],)*3, axis=-1)\n",
    "    grads = visualize_saliency(model, \n",
    "                           layer_idx,\n",
    "                           filter_indices = None,\n",
    "                           seed_input = image)\n",
    "    grd = np.stack((grads,)*3, axis=-1)\n",
    "    gaus = resize(grd, og_img.shape, anti_aliasing = False)\n",
    "    gaus = ndimage.gaussian_filter(gaus[:,:,2], sigma=(og_img.shape[0])/90)\n",
    "    plt.imshow(og_img)\n",
    "    plt.imshow(gaus, alpha=.6, cmap = 'viridis')\n",
    "    plt.axis('off')\n",
    "    plt.savefig(f'{OUTPUT_DIR}/{(originals[i])[:-4]}_SALMAP.png', dpi=300, bbox_inches=\"tight\", pad_inches=0)\n",
    "    plt.show()\n",
    "    if i == 180:\n",
    "        break"
   ]
  },
  {
   "cell_type": "code",
   "execution_count": null,
   "metadata": {},
   "outputs": [],
   "source": []
  }
 ],
 "metadata": {
  "kernelspec": {
   "display_name": "Python 3",
   "language": "python",
   "name": "python3"
  },
  "language_info": {
   "codemirror_mode": {
    "name": "ipython",
    "version": 3
   },
   "file_extension": ".py",
   "mimetype": "text/x-python",
   "name": "python",
   "nbconvert_exporter": "python",
   "pygments_lexer": "ipython3",
   "version": "3.7.6"
  },
  "toc": {
   "base_numbering": 1,
   "nav_menu": {},
   "number_sections": true,
   "sideBar": true,
   "skip_h1_title": false,
   "title_cell": "Table of Contents",
   "title_sidebar": "Contents",
   "toc_cell": false,
   "toc_position": {},
   "toc_section_display": true,
   "toc_window_display": false
  },
  "varInspector": {
   "cols": {
    "lenName": 16,
    "lenType": 16,
    "lenVar": 40
   },
   "kernels_config": {
    "python": {
     "delete_cmd_postfix": "",
     "delete_cmd_prefix": "del ",
     "library": "var_list.py",
     "varRefreshCmd": "print(var_dic_list())"
    },
    "r": {
     "delete_cmd_postfix": ") ",
     "delete_cmd_prefix": "rm(",
     "library": "var_list.r",
     "varRefreshCmd": "cat(var_dic_list()) "
    }
   },
   "types_to_exclude": [
    "module",
    "function",
    "builtin_function_or_method",
    "instance",
    "_Feature"
   ],
   "window_display": false
  }
 },
 "nbformat": 4,
 "nbformat_minor": 4
}
