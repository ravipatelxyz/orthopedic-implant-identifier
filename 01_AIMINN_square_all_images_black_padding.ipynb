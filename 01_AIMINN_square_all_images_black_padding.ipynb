{
 "cells": [
  {
   "cell_type": "markdown",
   "metadata": {},
   "source": [
    "### Imports"
   ]
  },
  {
   "cell_type": "code",
   "execution_count": null,
   "metadata": {
    "ExecuteTime": {
     "end_time": "2020-03-18T22:12:13.424928Z",
     "start_time": "2020-03-18T22:12:13.013839Z"
    }
   },
   "outputs": [],
   "source": [
    "import numpy as np\n",
    "import os\n",
    "import skimage as sk\n",
    "from PIL import Image\n",
    "from tqdm.notebook import tqdm"
   ]
  },
  {
   "cell_type": "markdown",
   "metadata": {},
   "source": [
    "### Setup directories"
   ]
  },
  {
   "cell_type": "code",
   "execution_count": null,
   "metadata": {},
   "outputs": [],
   "source": [
    "INPUT_PATH = \"\" # specify folder containing all radiographs\n",
    "OUTPUT_PATH = \"\" # specify folder to save squared versions of all radiographs\n",
    "FILES = os.listdir(INPUT_PATH)"
   ]
  },
  {
   "cell_type": "markdown",
   "metadata": {},
   "source": [
    "### Function for squaring images by adding black padding"
   ]
  },
  {
   "cell_type": "code",
   "execution_count": null,
   "metadata": {
    "ExecuteTime": {
     "end_time": "2020-03-18T22:26:58.164382Z",
     "start_time": "2020-03-18T22:12:24.680993Z"
    }
   },
   "outputs": [],
   "source": [
    " def square_image(input_path, output_path):\n",
    "        im = Image.open(input_path)\n",
    "        width, height = im.size\n",
    "        if width > height:\n",
    "            target_size = (width, width)\n",
    "            im_new = im.crop((0,0,width,width)).resize(target_size)\n",
    "        elif height > width:\n",
    "            target_size = (height, height)\n",
    "            im_new = im.crop((0,0,height,height)).resize(target_size)\n",
    "        elif height == width:\n",
    "            target_size = (height, height)\n",
    "            im_new = im.resize(target_size)\n",
    "        im_new.save(output_path)"
   ]
  },
  {
   "cell_type": "markdown",
   "metadata": {},
   "source": [
    "### Square all radiograph images"
   ]
  },
  {
   "cell_type": "code",
   "execution_count": null,
   "metadata": {},
   "outputs": [],
   "source": [
    "if not os.path.exists(OUTPUT_PATH):\n",
    "        os.makedirs(OUTPUT_PATH)\n",
    "\n",
    "for image in tqdm(FILES):\n",
    "    input_path = f\"{INPUT_PATH}/{image}\"\n",
    "    output_path = f\"{OUTPUT_PATH}/{image[-4]}_UNIL.png\"\n",
    "    square_image(input_path, output_path)"
   ]
  },
  {
   "cell_type": "markdown",
   "metadata": {},
   "source": [
    "### NOTE: FOR ALL FURTHER NOTEBOOKS USE SQUARED VERSIONS OF RADIOGRAPHS"
   ]
  }
 ],
 "metadata": {
  "kernelspec": {
   "display_name": "Python 3",
   "language": "python",
   "name": "python3"
  },
  "language_info": {
   "codemirror_mode": {
    "name": "ipython",
    "version": 3
   },
   "file_extension": ".py",
   "mimetype": "text/x-python",
   "name": "python",
   "nbconvert_exporter": "python",
   "pygments_lexer": "ipython3",
   "version": "3.7.6"
  },
  "toc": {
   "base_numbering": 1,
   "nav_menu": {},
   "number_sections": true,
   "sideBar": true,
   "skip_h1_title": false,
   "title_cell": "Table of Contents",
   "title_sidebar": "Contents",
   "toc_cell": false,
   "toc_position": {},
   "toc_section_display": true,
   "toc_window_display": false
  },
  "varInspector": {
   "cols": {
    "lenName": 16,
    "lenType": 16,
    "lenVar": 40
   },
   "kernels_config": {
    "python": {
     "delete_cmd_postfix": "",
     "delete_cmd_prefix": "del ",
     "library": "var_list.py",
     "varRefreshCmd": "print(var_dic_list())"
    },
    "r": {
     "delete_cmd_postfix": ") ",
     "delete_cmd_prefix": "rm(",
     "library": "var_list.r",
     "varRefreshCmd": "cat(var_dic_list()) "
    }
   },
   "types_to_exclude": [
    "module",
    "function",
    "builtin_function_or_method",
    "instance",
    "_Feature"
   ],
   "window_display": false
  }
 },
 "nbformat": 4,
 "nbformat_minor": 4
}
